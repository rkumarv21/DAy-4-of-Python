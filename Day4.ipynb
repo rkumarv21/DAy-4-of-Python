{
 "cells": [
  {
   "cell_type": "markdown",
   "id": "8362bf60",
   "metadata": {},
   "source": [
    "## Day4"
   ]
  },
  {
   "cell_type": "code",
   "execution_count": 38,
   "id": "8ebf8010",
   "metadata": {},
   "outputs": [
    {
     "name": "stdout",
     "output_type": "stream",
     "text": [
      "1\n"
     ]
    }
   ],
   "source": [
    "# random integers can be print in following ways\n",
    "import random\n",
    "random_integer = random.randint(0,1)\n",
    "print(random_integer)"
   ]
  },
  {
   "cell_type": "code",
   "execution_count": 32,
   "id": "0fe02c7f",
   "metadata": {},
   "outputs": [
    {
     "name": "stdout",
     "output_type": "stream",
     "text": [
      "9.813046533958662\n"
     ]
    }
   ],
   "source": [
    "# following is to print floating numbers in random way\n",
    "import random\n",
    "random_float = random.random()*10 # random.random() does not take any arguments\n",
    "print(random_float)"
   ]
  },
  {
   "cell_type": "markdown",
   "id": "89d8af73",
   "metadata": {},
   "source": [
    "#### exercise 4.1"
   ]
  },
  {
   "cell_type": "code",
   "execution_count": 46,
   "id": "795d0cd0",
   "metadata": {},
   "outputs": [
    {
     "name": "stdout",
     "output_type": "stream",
     "text": [
      "Heads\n"
     ]
    }
   ],
   "source": [
    "# here we have create a program to show Heads or Tell randomally\n",
    "import random\n",
    "# here if random number come out 1 then print Heads and if random nunber come out 0 then print Tell\n",
    "random_number = random.randint(0,1)\n",
    "if random_number==1:\n",
    "    print(\"Heads\")\n",
    "else:\n",
    "    print(\"Tells\")"
   ]
  },
  {
   "cell_type": "markdown",
   "id": "0705e84c",
   "metadata": {},
   "source": [
    "#### list []"
   ]
  },
  {
   "cell_type": "code",
   "execution_count": 48,
   "id": "9ed6b5d4",
   "metadata": {},
   "outputs": [
    {
     "name": "stdout",
     "output_type": "stream",
     "text": [
      "['uttarpradesh', 'bihar', 'punjab', 'uttarakhand', 'himachalpradesh', 'tamilnadu', 'kerla', 'udisha', 'jammu_kashmir']\n"
     ]
    }
   ],
   "source": [
    "# list is used to save many data is single variable\n",
    "#example\n",
    "states_of_india = [\"uttarpradesh\",\"bihar\",\"punjab\",\"uttarakhand\",\"himachalpradesh\",\"tamilnadu\",\"kerla\",\"udisha\",\"jammu_kashmir\"]\n",
    "print(states_of_india)"
   ]
  },
  {
   "cell_type": "markdown",
   "id": "011a21cf",
   "metadata": {},
   "source": [
    "#### exercise"
   ]
  },
  {
   "cell_type": "code",
   "execution_count": 54,
   "id": "4110a283",
   "metadata": {},
   "outputs": [
    {
     "name": "stdout",
     "output_type": "stream",
     "text": [
      "Give everybody's name, separated by a comma\n",
      "ravi, aman, satyam, nitesh, awanish\n",
      "5\n",
      "nitesh is going buy the meal today.\n"
     ]
    }
   ],
   "source": [
    "# here we have to create a program using list as well as split list method.\n",
    "name_string = input(\"Give everybody's name, separated by a comma\\n\")\n",
    "name = name_string.split(\", \")\n",
    "N = len(name)\n",
    "print(N)\n",
    "# now we have choose any name randomly to buy the meal\n",
    "import random\n",
    "random_number = random.randint(0,N-1)\n",
    "buyer_name = name[random_number]\n",
    "print(f\"{buyer_name} is going buy the meal today.\")"
   ]
  },
  {
   "cell_type": "markdown",
   "id": "83e9bf5f",
   "metadata": {},
   "source": [
    "#### exercise 4.2"
   ]
  },
  {
   "cell_type": "code",
   "execution_count": 56,
   "id": "2e957013",
   "metadata": {},
   "outputs": [
    {
     "name": "stdout",
     "output_type": "stream",
     "text": [
      "['😀', '😃', '😂']\n",
      "['😘', '😙', '😋']\n",
      "['😊', '😭', '🥵']\n",
      "[['😀', '😃', '😂'], ['😘', '😙', '😋'], ['😊', '😭', '🥵']]\n"
     ]
    }
   ],
   "source": [
    "# here we have make 3 by 3 matrix using list with some emoji\n",
    "row1 = [\"😀\",\"😃\",\"😂\"]\n",
    "row2 = [\"😘\",\"😙\",\"😋\"]\n",
    "row3 = [\"😊\",\"😭\",\"🥵\"]\n",
    "map = [row1,row2,row3]\n",
    "print(f\"{row1}\\n{row2}\\n{row3}\")\n"
   ]
  },
  {
   "cell_type": "markdown",
   "id": "d2fd39b1",
   "metadata": {},
   "source": [
    "#### project"
   ]
  },
  {
   "cell_type": "code",
   "execution_count": 18,
   "id": "c8d8152c",
   "metadata": {},
   "outputs": [
    {
     "name": "stdout",
     "output_type": "stream",
     "text": [
      "welcome to rock paper scossor game!!\n",
      "enter any number in between 0-2 to play the game. 0=rock,1 = paper and 2 = scissor2\n",
      "\n",
      "    _______\n",
      "---'   ____)____  \n",
      "          ______)  \n",
      "       __________)  \n",
      "      (____)\n",
      "---.__(___)\n",
      "\n",
      "\n",
      "    _______\n",
      "---'   ____)____  \n",
      "          ______)  \n",
      "       __________)  \n",
      "      (____)\n",
      "---.__(___)\n",
      "\n",
      "Game is tie\n",
      "Thank You!!!\n"
     ]
    }
   ],
   "source": [
    "# make rock paper scissor game \n",
    "print(\"welcome to rock paper scossor game!!\")\n",
    "rock = '''\n",
    "    _______\n",
    "---'   ____)  \n",
    "      (_____)  \n",
    "      (_____)  \n",
    "      (____)\n",
    "---.__(___)\n",
    "'''\n",
    "paper = '''\n",
    "    _______\n",
    "---'   ____)____  \n",
    "          ______)  \n",
    "          _______)  \n",
    "         _______)\n",
    "---.__________)\n",
    "'''\n",
    "scissor = '''\n",
    "    _______\n",
    "---'   ____)____  \n",
    "          ______)  \n",
    "       __________)  \n",
    "      (____)\n",
    "---.__(___)\n",
    "'''\n",
    "map = [rock,paper,scissor]\n",
    "import random\n",
    "rand_num = random.randint(0,2)\n",
    "computer_choice = map[rand_num]\n",
    "my_num = int(input(\"enter any number in between 0-2 to play the game. 0=rock,1 = paper and 2 = scissor\"))\n",
    "my_choice = map[my_num]\n",
    "print(my_choice)\n",
    "print(computer_choice)\n",
    "if my_num==rand_num:\n",
    "    print(\"Game is tie\")\n",
    "elif my_num > 2 or my_num < 0:\n",
    "    print(\"You typed invalid number.\")\n",
    "elif rand_num<my_num:\n",
    "    print(\"You won the game\")\n",
    "elif my_num == 0 and rand_num ==2:\n",
    "    print(\"You won the game\")\n",
    "else:\n",
    "    print(\"You lose the game\")\n",
    "    \n",
    "print(\"Thank You!!!\")"
   ]
  },
  {
   "cell_type": "code",
   "execution_count": null,
   "id": "2fbe9cf1",
   "metadata": {},
   "outputs": [],
   "source": []
  }
 ],
 "metadata": {
  "kernelspec": {
   "display_name": "Python 3 (ipykernel)",
   "language": "python",
   "name": "python3"
  },
  "language_info": {
   "codemirror_mode": {
    "name": "ipython",
    "version": 3
   },
   "file_extension": ".py",
   "mimetype": "text/x-python",
   "name": "python",
   "nbconvert_exporter": "python",
   "pygments_lexer": "ipython3",
   "version": "3.9.7"
  }
 },
 "nbformat": 4,
 "nbformat_minor": 5
}
